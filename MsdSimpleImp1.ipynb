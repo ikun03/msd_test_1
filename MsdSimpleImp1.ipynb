{
 "cells": [
  {
   "cell_type": "code",
   "execution_count": 6,
   "metadata": {
    "collapsed": false
   },
   "outputs": [],
   "source": [
    "f=open('kaggle_songs.txt','r')\n",
    "songs_serial=dict()\n",
    "for line in f:\n",
    "    song,index=line.strip().split(' ')\n",
    "    songs_serial[int(index)]=song\n",
    "f.close()"
   ]
  },
  {
   "cell_type": "code",
   "execution_count": 9,
   "metadata": {
    "collapsed": false
   },
   "outputs": [
    {
     "data": {
      "text/plain": [
       "'SOZZZWN12AF72A1E29'"
      ]
     },
     "execution_count": 9,
     "metadata": {},
     "output_type": "execute_result"
    }
   ],
   "source": [
    "songs_serial[386213]"
   ]
  },
  {
   "cell_type": "code",
   "execution_count": 10,
   "metadata": {
    "collapsed": true
   },
   "outputs": [],
   "source": [
    "f=open('kaggle_visible_evaluation_triplets.txt','r')\n",
    "user_song_listencount=dict()\n",
    "for line in f:\n",
    "    user,song,count=line.strip().split('\\t')\n",
    "    user_song_listencount[(user,song)]=int(count)\n",
    "f.close()"
   ]
  },
  {
   "cell_type": "code",
   "execution_count": null,
   "metadata": {
    "collapsed": false
   },
   "outputs": [],
   "source": []
  },
  {
   "cell_type": "code",
   "execution_count": 12,
   "metadata": {
    "collapsed": true
   },
   "outputs": [],
   "source": [
    "f=open('kaggle_visible_evaluation_triplets.txt','r')\n",
    "user_to_songs=dict()\n",
    "for line in f:\n",
    "    user,song,_=line.strip().split('\\t')\n",
    "    if user in user_to_songs:\n",
    "        user_to_songs[user].add(song)\n",
    "    else:\n",
    "        user_to_songs[user]=set([song])\n",
    "f.close()"
   ]
  },
  {
   "cell_type": "code",
   "execution_count": null,
   "metadata": {
    "collapsed": false
   },
   "outputs": [],
   "source": []
  },
  {
   "cell_type": "code",
   "execution_count": 24,
   "metadata": {
    "collapsed": true
   },
   "outputs": [],
   "source": [
    "from math import sqrt\n",
    "def findSimilarity(user1,user2):\n",
    "    user1_rating=0\n",
    "    user2_rating=0\n",
    "    dot_product=0\n",
    "    for song in user_to_songs[user1]:\n",
    "        user1_rating+=(user_song_listencount[user1,song])**2\n",
    "    for song in user_to_songs[user2]:\n",
    "        user2_rating+=(user_song_listencount[user2,song])**2\n",
    "    user1_rating=sqrt(user1_rating)\n",
    "    user2_rating=sqrt(user2_rating)\n",
    "    for song in user_to_songs[user1]:\n",
    "        if song in user_to_songs[user2]:\n",
    "            dot_product+=(user_song_listencount[user2,song]*user_song_listencount[user1,song])\n",
    "    return round(dot_product/(user1_rating*user2_rating),3)\n",
    "        "
   ]
  },
  {
   "cell_type": "code",
   "execution_count": 25,
   "metadata": {
    "collapsed": true
   },
   "outputs": [],
   "source": [
    "f=open('kaggle_users.txt','r')\n",
    "users=[]\n",
    "for line in f:\n",
    "    user=line.strip()\n",
    "    users.append(user)\n",
    "f.close()"
   ]
  },
  {
   "cell_type": "code",
   "execution_count": 27,
   "metadata": {
    "collapsed": false
   },
   "outputs": [],
   "source": [
    "similarity=dict()\n",
    "for user in users:\n",
    "    similarity[user]=findSimilarity('fd50c4007b68a3737fe052d5a4f78ce8aa117f3d',user)\n"
   ]
  },
  {
   "cell_type": "code",
   "execution_count": null,
   "metadata": {
    "collapsed": false
   },
   "outputs": [],
   "source": []
  },
  {
   "cell_type": "code",
   "execution_count": 31,
   "metadata": {
    "collapsed": false
   },
   "outputs": [],
   "source": [
    "from collections import OrderedDict\n",
    "desc_similarity = OrderedDict(sorted(similarity.items(), \n",
    "                                  key=lambda t: t[1], reverse=True))"
   ]
  },
  {
   "cell_type": "code",
   "execution_count": null,
   "metadata": {
    "collapsed": false
   },
   "outputs": [],
   "source": []
  },
  {
   "cell_type": "code",
   "execution_count": 43,
   "metadata": {
    "collapsed": false
   },
   "outputs": [],
   "source": [
    "most_similar_user=list(desc_similarity.keys())[1]\n",
    "recommendedSongs=list()\n",
    "for song in user_to_songs['fd50c4007b68a3737fe052d5a4f78ce8aa117f3d']:\n",
    "    if song not in user_to_songs[most_similar_user]:\n",
    "        recommendedSongs.append(song)\n"
   ]
  },
  {
   "cell_type": "code",
   "execution_count": 44,
   "metadata": {
    "collapsed": false
   },
   "outputs": [
    {
     "data": {
      "text/plain": [
       "['SODQZCY12A6D4F9D11', 'SOHTKMO12AB01843B0', 'SOXLOQG12AF72A2D55']"
      ]
     },
     "execution_count": 44,
     "metadata": {},
     "output_type": "execute_result"
    }
   ],
   "source": [
    "recommendedSongs"
   ]
  },
  {
   "cell_type": "code",
   "execution_count": null,
   "metadata": {
    "collapsed": true
   },
   "outputs": [],
   "source": []
  }
 ],
 "metadata": {
  "anaconda-cloud": {},
  "kernelspec": {
   "display_name": "Python [conda root]",
   "language": "python",
   "name": "conda-root-py"
  },
  "language_info": {
   "codemirror_mode": {
    "name": "ipython",
    "version": 3
   },
   "file_extension": ".py",
   "mimetype": "text/x-python",
   "name": "python",
   "nbconvert_exporter": "python",
   "pygments_lexer": "ipython3",
   "version": "3.5.2"
  }
 },
 "nbformat": 4,
 "nbformat_minor": 1
}
